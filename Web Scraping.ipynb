{
 "cells": [
  {
   "cell_type": "code",
   "execution_count": 1,
   "id": "1acb8de6-d282-488e-b485-3ce5cd1c82d8",
   "metadata": {},
   "outputs": [],
   "source": [
    "import pandas as pd\n",
    "import requests\n",
    "from bs4 import BeautifulSoup\n",
    "import numpy as np"
   ]
  },
  {
   "cell_type": "code",
   "execution_count": 2,
   "id": "cdb50e14-ae3b-44b3-a317-630edc3fa087",
   "metadata": {},
   "outputs": [],
   "source": [
    "headers={'User-Agent':'Mozilla/5.0 (Windows NT 6.3; Win 64 ; x64) Apple WeKit /537.36(KHTML , like Gecko) Chrome/80.0.3987.162 Safari/537.36'}"
   ]
  },
  {
   "cell_type": "code",
   "execution_count": 3,
   "id": "848ce7b8-1d55-4b47-b4df-f9c79e507737",
   "metadata": {},
   "outputs": [],
   "source": [
    "webpage=requests.get('https://weather.com/weather/today/l/8550e54fa880accaa2a725712c1e0ec00a83e9aeb17521331ea6d21b0ad3997d').text"
   ]
  },
  {
   "cell_type": "code",
   "execution_count": 4,
   "id": "21b324bc-dd44-4b83-b815-10891f85b3fe",
   "metadata": {},
   "outputs": [],
   "source": [
    "soup=BeautifulSoup(webpage,'lxml')"
   ]
  },
  {
   "cell_type": "code",
   "execution_count": 5,
   "id": "4c145b00-c4eb-464a-8a72-5043f02f331e",
   "metadata": {},
   "outputs": [
    {
     "data": {
      "text/plain": [
       "[<h1 class=\"CurrentConditions--location--yub4l\">Khandwa, Madhya Pradesh, India</h1>]"
      ]
     },
     "execution_count": 5,
     "metadata": {},
     "output_type": "execute_result"
    }
   ],
   "source": [
    "soup.find_all('h1')"
   ]
  },
  {
   "cell_type": "code",
   "execution_count": 6,
   "id": "390881fc-fe83-4ec3-9c1a-2485845a831f",
   "metadata": {},
   "outputs": [],
   "source": [
    "webpage2=requests.get('https://www.accuweather.com/en/in/khandwa/189113/weather-forecast/189113',headers=headers).text"
   ]
  },
  {
   "cell_type": "code",
   "execution_count": 8,
   "id": "e02d19f8-d641-4e11-a535-babe468da424",
   "metadata": {},
   "outputs": [],
   "source": [
    "soup2=BeautifulSoup(webpage2,'lxml')"
   ]
  },
  {
   "cell_type": "code",
   "execution_count": 9,
   "id": "0ba5153b-bb4b-4735-9635-447d57dc49c9",
   "metadata": {},
   "outputs": [],
   "source": [
    "#soup2.prettify()"
   ]
  },
  {
   "cell_type": "code",
   "execution_count": 10,
   "id": "c1db5c39-e0df-480b-b606-f460753c61a7",
   "metadata": {},
   "outputs": [
    {
     "data": {
      "text/plain": [
       "[<p class=\"day\">Tonight</p>,\n",
       " <p class=\"day\">Fri</p>,\n",
       " <p class=\"day\">Sat</p>,\n",
       " <p class=\"day\">Sun</p>,\n",
       " <p class=\"day\">Mon</p>,\n",
       " <p class=\"day\">Tue</p>,\n",
       " <p class=\"day\">Wed</p>,\n",
       " <p class=\"day\">Thu</p>,\n",
       " <p class=\"day\">Fri</p>,\n",
       " <p class=\"day\">Sat</p>]"
      ]
     },
     "execution_count": 10,
     "metadata": {},
     "output_type": "execute_result"
    }
   ],
   "source": [
    "soup2.find_all(class_=\"day\")"
   ]
  },
  {
   "cell_type": "code",
   "execution_count": 11,
   "id": "51c56caf-2246-49be-bca5-9a226e042ba2",
   "metadata": {},
   "outputs": [
    {
     "data": {
      "text/plain": [
       "19"
      ]
     },
     "execution_count": 11,
     "metadata": {},
     "output_type": "execute_result"
    }
   ],
   "source": [
    "len(soup2.find_all('p',class_='no-wrap'))"
   ]
  },
  {
   "cell_type": "code",
   "execution_count": 12,
   "id": "b679fdeb-09ae-4ae9-aa76-14bd405f5baf",
   "metadata": {},
   "outputs": [
    {
     "data": {
      "text/plain": [
       "10"
      ]
     },
     "execution_count": 12,
     "metadata": {},
     "output_type": "execute_result"
    }
   ],
   "source": [
    "len(soup2.find_all(class_='temp-hi'))"
   ]
  },
  {
   "cell_type": "code",
   "execution_count": 13,
   "id": "6154603c-ff8d-4448-89b2-4852e0aa30a5",
   "metadata": {},
   "outputs": [
    {
     "name": "stdout",
     "output_type": "stream",
     "text": [
      "24%\n",
      "11%\n",
      "55%\n",
      "70%\n",
      "25%\n",
      "66%\n",
      "85%\n",
      "70%\n",
      "75%\n",
      "56%\n"
     ]
    }
   ],
   "source": [
    "for i in soup2.find_all(class_='precip'):\n",
    "    print(i.text.strip())"
   ]
  },
  {
   "cell_type": "code",
   "execution_count": 14,
   "id": "b128248b-47a8-4a72-9f61-f2b538eed899",
   "metadata": {},
   "outputs": [
    {
     "data": {
      "text/plain": [
       "10"
      ]
     },
     "execution_count": 14,
     "metadata": {},
     "output_type": "execute_result"
    }
   ],
   "source": [
    "len(soup2.find_all(class_='precip'))"
   ]
  },
  {
   "cell_type": "code",
   "execution_count": 15,
   "id": "a79ad9d2-e6db-4cd2-927f-45b937773e4e",
   "metadata": {},
   "outputs": [
    {
     "name": "stdout",
     "output_type": "stream",
     "text": [
      "\n",
      "Tonight\n",
      "\n",
      "6/12\n",
      "\n",
      "\n",
      "Fri\n",
      "\n",
      "6/13\n",
      "\n",
      "\n",
      "Sat\n",
      "\n",
      "6/14\n",
      "\n",
      "\n",
      "Sun\n",
      "\n",
      "6/15\n",
      "\n",
      "\n",
      "Mon\n",
      "\n",
      "6/16\n",
      "\n",
      "\n",
      "Tue\n",
      "\n",
      "6/17\n",
      "\n",
      "\n",
      "Wed\n",
      "\n",
      "6/18\n",
      "\n",
      "\n",
      "Thu\n",
      "\n",
      "6/19\n",
      "\n",
      "\n",
      "Fri\n",
      "\n",
      "6/20\n",
      "\n",
      "\n",
      "Sat\n",
      "\n",
      "6/21\n",
      "\n"
     ]
    }
   ],
   "source": [
    "for i in soup2.find_all('a',class_='daily-list-item'):\n",
    "    for j in i.find('div'):\n",
    "        print(j.text.strip())"
   ]
  },
  {
   "cell_type": "code",
   "execution_count": 16,
   "id": "38644f15-8f90-4cc4-b9bc-bdc2384ca034",
   "metadata": {},
   "outputs": [],
   "source": [
    "content=soup2.find_all('div',class_='page-content')"
   ]
  },
  {
   "cell_type": "code",
   "execution_count": 18,
   "id": "99b9d8c3-5ec6-475a-824a-563895ec1ae7",
   "metadata": {},
   "outputs": [],
   "source": [
    "day=[]\n",
    "date=[]\n",
    "hi_temp=[]\n",
    "low_temp=[]\n",
    "phrase0=[]\n",
    "phrase1=[]\n",
    "img=[]\n",
    "precip=[]\n",
    "for i in content:\n",
    "    for j in i.find_all('a',class_='daily-list-item'):\n",
    "         day.append(j.find_all('p',class_='day')[0].text)    \n",
    "         date.append(j.find_all('p',class_=None)[0].text)\n",
    "         hi_temp.append(j.find_all(class_='temp-hi')[0].text)\n",
    "         low_temp.append(j.find_all(class_='temp-lo')[0].text)\n",
    "         phrase0.append(j.find_all('p',class_='no-wrap')[0].text)\n",
    "         phrase1.append(j.find_all('p',class_='no-wrap')[0].text)\n",
    "         img.append(j.find('img',class_='icon'))\n",
    "         precip.append(j.find_all(class_=\"precip\")[0].text)\n",
    "\n",
    "weather_info={'day':day,'date':date,'hi-temp':hi_temp,'low-temp':low_temp,'day-dec':phrase0,'night-dec':phrase1}\n",
    "df=pd.DataFrame(weather_info)"
   ]
  },
  {
   "cell_type": "code",
   "execution_count": 20,
   "id": "29ed8ce9-780e-4ca4-91ed-aa0fb30fe296",
   "metadata": {},
   "outputs": [
    {
     "data": {
      "text/html": [
       "<div>\n",
       "<style scoped>\n",
       "    .dataframe tbody tr th:only-of-type {\n",
       "        vertical-align: middle;\n",
       "    }\n",
       "\n",
       "    .dataframe tbody tr th {\n",
       "        vertical-align: top;\n",
       "    }\n",
       "\n",
       "    .dataframe thead th {\n",
       "        text-align: right;\n",
       "    }\n",
       "</style>\n",
       "<table border=\"1\" class=\"dataframe\">\n",
       "  <thead>\n",
       "    <tr style=\"text-align: right;\">\n",
       "      <th></th>\n",
       "      <th>day</th>\n",
       "      <th>date</th>\n",
       "      <th>hi-temp</th>\n",
       "      <th>low-temp</th>\n",
       "      <th>day-dec</th>\n",
       "      <th>night-dec</th>\n",
       "    </tr>\n",
       "  </thead>\n",
       "  <tbody>\n",
       "    <tr>\n",
       "      <th>0</th>\n",
       "      <td>Tonight</td>\n",
       "      <td>6/12</td>\n",
       "      <td>30°</td>\n",
       "      <td>Lo</td>\n",
       "      <td>Very warm with clearing</td>\n",
       "      <td>Very warm with clearing</td>\n",
       "    </tr>\n",
       "    <tr>\n",
       "      <th>1</th>\n",
       "      <td>Fri</td>\n",
       "      <td>6/13</td>\n",
       "      <td>40°</td>\n",
       "      <td>27°</td>\n",
       "      <td>Warm; breezy in the morning</td>\n",
       "      <td>Warm; breezy in the morning</td>\n",
       "    </tr>\n",
       "    <tr>\n",
       "      <th>2</th>\n",
       "      <td>Sat</td>\n",
       "      <td>6/14</td>\n",
       "      <td>37°</td>\n",
       "      <td>27°</td>\n",
       "      <td>A p.m. t-storm in spots</td>\n",
       "      <td>A p.m. t-storm in spots</td>\n",
       "    </tr>\n",
       "    <tr>\n",
       "      <th>3</th>\n",
       "      <td>Sun</td>\n",
       "      <td>6/15</td>\n",
       "      <td>31°</td>\n",
       "      <td>26°</td>\n",
       "      <td>Cloudy, a t-storm in the p.m.</td>\n",
       "      <td>Cloudy, a t-storm in the p.m.</td>\n",
       "    </tr>\n",
       "    <tr>\n",
       "      <th>4</th>\n",
       "      <td>Mon</td>\n",
       "      <td>6/16</td>\n",
       "      <td>31°</td>\n",
       "      <td>26°</td>\n",
       "      <td>Clouds breaking for some sun</td>\n",
       "      <td>Clouds breaking for some sun</td>\n",
       "    </tr>\n",
       "    <tr>\n",
       "      <th>5</th>\n",
       "      <td>Tue</td>\n",
       "      <td>6/17</td>\n",
       "      <td>32°</td>\n",
       "      <td>26°</td>\n",
       "      <td>Some rain and a thunderstorm</td>\n",
       "      <td>Some rain and a thunderstorm</td>\n",
       "    </tr>\n",
       "    <tr>\n",
       "      <th>6</th>\n",
       "      <td>Wed</td>\n",
       "      <td>6/18</td>\n",
       "      <td>34°</td>\n",
       "      <td>25°</td>\n",
       "      <td>Cloudy with afternoon rain</td>\n",
       "      <td>Cloudy with afternoon rain</td>\n",
       "    </tr>\n",
       "    <tr>\n",
       "      <th>7</th>\n",
       "      <td>Thu</td>\n",
       "      <td>6/19</td>\n",
       "      <td>29°</td>\n",
       "      <td>26°</td>\n",
       "      <td>Rain and a thunderstorm</td>\n",
       "      <td>Rain and a thunderstorm</td>\n",
       "    </tr>\n",
       "    <tr>\n",
       "      <th>8</th>\n",
       "      <td>Fri</td>\n",
       "      <td>6/20</td>\n",
       "      <td>30°</td>\n",
       "      <td>25°</td>\n",
       "      <td>An afternoon t-storm or two</td>\n",
       "      <td>An afternoon t-storm or two</td>\n",
       "    </tr>\n",
       "    <tr>\n",
       "      <th>9</th>\n",
       "      <td>Sat</td>\n",
       "      <td>6/21</td>\n",
       "      <td>31°</td>\n",
       "      <td>25°</td>\n",
       "      <td>A little afternoon rain</td>\n",
       "      <td>A little afternoon rain</td>\n",
       "    </tr>\n",
       "  </tbody>\n",
       "</table>\n",
       "</div>"
      ],
      "text/plain": [
       "       day  date hi-temp low-temp                        day-dec  \\\n",
       "0  Tonight  6/12     30°       Lo        Very warm with clearing   \n",
       "1      Fri  6/13     40°      27°    Warm; breezy in the morning   \n",
       "2      Sat  6/14     37°      27°        A p.m. t-storm in spots   \n",
       "3      Sun  6/15     31°      26°  Cloudy, a t-storm in the p.m.   \n",
       "4      Mon  6/16     31°      26°   Clouds breaking for some sun   \n",
       "5      Tue  6/17     32°      26°   Some rain and a thunderstorm   \n",
       "6      Wed  6/18     34°      25°     Cloudy with afternoon rain   \n",
       "7      Thu  6/19     29°      26°        Rain and a thunderstorm   \n",
       "8      Fri  6/20     30°      25°    An afternoon t-storm or two   \n",
       "9      Sat  6/21     31°      25°        A little afternoon rain   \n",
       "\n",
       "                       night-dec  \n",
       "0        Very warm with clearing  \n",
       "1    Warm; breezy in the morning  \n",
       "2        A p.m. t-storm in spots  \n",
       "3  Cloudy, a t-storm in the p.m.  \n",
       "4   Clouds breaking for some sun  \n",
       "5   Some rain and a thunderstorm  \n",
       "6     Cloudy with afternoon rain  \n",
       "7        Rain and a thunderstorm  \n",
       "8    An afternoon t-storm or two  \n",
       "9        A little afternoon rain  "
      ]
     },
     "execution_count": 20,
     "metadata": {},
     "output_type": "execute_result"
    }
   ],
   "source": [
    "df"
   ]
  },
  {
   "cell_type": "code",
   "execution_count": 22,
   "id": "79ae21fa-0d7e-4543-91c7-3f1335c4a95e",
   "metadata": {},
   "outputs": [
    {
     "name": "stdout",
     "output_type": "stream",
     "text": [
      "<class 'pandas.core.frame.DataFrame'>\n",
      "RangeIndex: 10 entries, 0 to 9\n",
      "Data columns (total 6 columns):\n",
      " #   Column     Non-Null Count  Dtype \n",
      "---  ------     --------------  ----- \n",
      " 0   day        10 non-null     object\n",
      " 1   date       10 non-null     object\n",
      " 2   hi-temp    10 non-null     object\n",
      " 3   low-temp   10 non-null     object\n",
      " 4   day-dec    10 non-null     object\n",
      " 5   night-dec  10 non-null     object\n",
      "dtypes: object(6)\n",
      "memory usage: 612.0+ bytes\n"
     ]
    }
   ],
   "source": [
    "df.info()"
   ]
  },
  {
   "cell_type": "code",
   "execution_count": 24,
   "id": "da167ef7-7924-46fa-94a8-92f04b2083bd",
   "metadata": {},
   "outputs": [],
   "source": [
    "df=df.to_csv('weather_info.csv')"
   ]
  },
  {
   "cell_type": "code",
   "execution_count": 26,
   "id": "ae6d43a2-cbf5-4c28-a7af-19f110e100d2",
   "metadata": {},
   "outputs": [
    {
     "data": {
      "text/html": [
       "<div>\n",
       "<style scoped>\n",
       "    .dataframe tbody tr th:only-of-type {\n",
       "        vertical-align: middle;\n",
       "    }\n",
       "\n",
       "    .dataframe tbody tr th {\n",
       "        vertical-align: top;\n",
       "    }\n",
       "\n",
       "    .dataframe thead th {\n",
       "        text-align: right;\n",
       "    }\n",
       "</style>\n",
       "<table border=\"1\" class=\"dataframe\">\n",
       "  <thead>\n",
       "    <tr style=\"text-align: right;\">\n",
       "      <th></th>\n",
       "      <th>Unnamed: 0</th>\n",
       "      <th>day</th>\n",
       "      <th>date</th>\n",
       "      <th>hi-temp</th>\n",
       "      <th>low-temp</th>\n",
       "      <th>day-dec</th>\n",
       "      <th>night-dec</th>\n",
       "    </tr>\n",
       "  </thead>\n",
       "  <tbody>\n",
       "    <tr>\n",
       "      <th>0</th>\n",
       "      <td>0</td>\n",
       "      <td>Tonight</td>\n",
       "      <td>6/12</td>\n",
       "      <td>30°</td>\n",
       "      <td>Lo</td>\n",
       "      <td>Very warm with clearing</td>\n",
       "      <td>Very warm with clearing</td>\n",
       "    </tr>\n",
       "    <tr>\n",
       "      <th>1</th>\n",
       "      <td>1</td>\n",
       "      <td>Fri</td>\n",
       "      <td>6/13</td>\n",
       "      <td>40°</td>\n",
       "      <td>27°</td>\n",
       "      <td>Warm; breezy in the morning</td>\n",
       "      <td>Warm; breezy in the morning</td>\n",
       "    </tr>\n",
       "    <tr>\n",
       "      <th>2</th>\n",
       "      <td>2</td>\n",
       "      <td>Sat</td>\n",
       "      <td>6/14</td>\n",
       "      <td>37°</td>\n",
       "      <td>27°</td>\n",
       "      <td>A p.m. t-storm in spots</td>\n",
       "      <td>A p.m. t-storm in spots</td>\n",
       "    </tr>\n",
       "    <tr>\n",
       "      <th>3</th>\n",
       "      <td>3</td>\n",
       "      <td>Sun</td>\n",
       "      <td>6/15</td>\n",
       "      <td>31°</td>\n",
       "      <td>26°</td>\n",
       "      <td>Cloudy, a t-storm in the p.m.</td>\n",
       "      <td>Cloudy, a t-storm in the p.m.</td>\n",
       "    </tr>\n",
       "    <tr>\n",
       "      <th>4</th>\n",
       "      <td>4</td>\n",
       "      <td>Mon</td>\n",
       "      <td>6/16</td>\n",
       "      <td>31°</td>\n",
       "      <td>26°</td>\n",
       "      <td>Clouds breaking for some sun</td>\n",
       "      <td>Clouds breaking for some sun</td>\n",
       "    </tr>\n",
       "    <tr>\n",
       "      <th>5</th>\n",
       "      <td>5</td>\n",
       "      <td>Tue</td>\n",
       "      <td>6/17</td>\n",
       "      <td>32°</td>\n",
       "      <td>26°</td>\n",
       "      <td>Some rain and a thunderstorm</td>\n",
       "      <td>Some rain and a thunderstorm</td>\n",
       "    </tr>\n",
       "    <tr>\n",
       "      <th>6</th>\n",
       "      <td>6</td>\n",
       "      <td>Wed</td>\n",
       "      <td>6/18</td>\n",
       "      <td>34°</td>\n",
       "      <td>25°</td>\n",
       "      <td>Cloudy with afternoon rain</td>\n",
       "      <td>Cloudy with afternoon rain</td>\n",
       "    </tr>\n",
       "    <tr>\n",
       "      <th>7</th>\n",
       "      <td>7</td>\n",
       "      <td>Thu</td>\n",
       "      <td>6/19</td>\n",
       "      <td>29°</td>\n",
       "      <td>26°</td>\n",
       "      <td>Rain and a thunderstorm</td>\n",
       "      <td>Rain and a thunderstorm</td>\n",
       "    </tr>\n",
       "    <tr>\n",
       "      <th>8</th>\n",
       "      <td>8</td>\n",
       "      <td>Fri</td>\n",
       "      <td>6/20</td>\n",
       "      <td>30°</td>\n",
       "      <td>25°</td>\n",
       "      <td>An afternoon t-storm or two</td>\n",
       "      <td>An afternoon t-storm or two</td>\n",
       "    </tr>\n",
       "    <tr>\n",
       "      <th>9</th>\n",
       "      <td>9</td>\n",
       "      <td>Sat</td>\n",
       "      <td>6/21</td>\n",
       "      <td>31°</td>\n",
       "      <td>25°</td>\n",
       "      <td>A little afternoon rain</td>\n",
       "      <td>A little afternoon rain</td>\n",
       "    </tr>\n",
       "  </tbody>\n",
       "</table>\n",
       "</div>"
      ],
      "text/plain": [
       "   Unnamed: 0      day  date hi-temp low-temp                        day-dec  \\\n",
       "0           0  Tonight  6/12     30°       Lo        Very warm with clearing   \n",
       "1           1      Fri  6/13     40°      27°    Warm; breezy in the morning   \n",
       "2           2      Sat  6/14     37°      27°        A p.m. t-storm in spots   \n",
       "3           3      Sun  6/15     31°      26°  Cloudy, a t-storm in the p.m.   \n",
       "4           4      Mon  6/16     31°      26°   Clouds breaking for some sun   \n",
       "5           5      Tue  6/17     32°      26°   Some rain and a thunderstorm   \n",
       "6           6      Wed  6/18     34°      25°     Cloudy with afternoon rain   \n",
       "7           7      Thu  6/19     29°      26°        Rain and a thunderstorm   \n",
       "8           8      Fri  6/20     30°      25°    An afternoon t-storm or two   \n",
       "9           9      Sat  6/21     31°      25°        A little afternoon rain   \n",
       "\n",
       "                       night-dec  \n",
       "0        Very warm with clearing  \n",
       "1    Warm; breezy in the morning  \n",
       "2        A p.m. t-storm in spots  \n",
       "3  Cloudy, a t-storm in the p.m.  \n",
       "4   Clouds breaking for some sun  \n",
       "5   Some rain and a thunderstorm  \n",
       "6     Cloudy with afternoon rain  \n",
       "7        Rain and a thunderstorm  \n",
       "8    An afternoon t-storm or two  \n",
       "9        A little afternoon rain  "
      ]
     },
     "execution_count": 26,
     "metadata": {},
     "output_type": "execute_result"
    }
   ],
   "source": [
    "weather=pd.read_csv('weather_info.csv')\n",
    "weather"
   ]
  },
  {
   "cell_type": "code",
   "execution_count": 28,
   "id": "2b97cb65-158a-46dd-bbae-063b3aca6568",
   "metadata": {},
   "outputs": [],
   "source": [
    "weather['date']=pd.to_datetime(weather.date,format='%m/%d')"
   ]
  },
  {
   "cell_type": "code",
   "execution_count": 30,
   "id": "448bc03c-8555-4e7c-8bba-5d95447cf6bb",
   "metadata": {},
   "outputs": [
    {
     "name": "stdout",
     "output_type": "stream",
     "text": [
      "<class 'pandas.core.frame.DataFrame'>\n",
      "RangeIndex: 10 entries, 0 to 9\n",
      "Data columns (total 7 columns):\n",
      " #   Column      Non-Null Count  Dtype         \n",
      "---  ------      --------------  -----         \n",
      " 0   Unnamed: 0  10 non-null     int64         \n",
      " 1   day         10 non-null     object        \n",
      " 2   date        10 non-null     datetime64[ns]\n",
      " 3   hi-temp     10 non-null     object        \n",
      " 4   low-temp    10 non-null     object        \n",
      " 5   day-dec     10 non-null     object        \n",
      " 6   night-dec   10 non-null     object        \n",
      "dtypes: datetime64[ns](1), int64(1), object(5)\n",
      "memory usage: 692.0+ bytes\n"
     ]
    }
   ],
   "source": [
    "weather.info()"
   ]
  },
  {
   "cell_type": "code",
   "execution_count": 32,
   "id": "12b97b25-ff58-42be-9936-06375188ea1b",
   "metadata": {},
   "outputs": [
    {
     "data": {
      "text/plain": [
       "array(['Tonight', 'Fri', 'Sat', 'Sun', 'Mon', 'Tue', 'Wed', 'Thu'],\n",
       "      dtype=object)"
      ]
     },
     "execution_count": 32,
     "metadata": {},
     "output_type": "execute_result"
    }
   ],
   "source": [
    "weather['day'].unique()"
   ]
  },
  {
   "cell_type": "markdown",
   "id": "2b06bb17-0b90-45de-bc4d-d023ec0a8bcd",
   "metadata": {},
   "source": [
    "***Most used shopping app in India***"
   ]
  },
  {
   "cell_type": "code",
   "execution_count": 34,
   "id": "cd45c240-e57c-4c02-8e57-5cff369de45b",
   "metadata": {},
   "outputs": [],
   "source": [
    "app=requests.get('https://cashkaro.com/blog/best-online-shopping-apps-in-india/185530#amazon').text"
   ]
  },
  {
   "cell_type": "code",
   "execution_count": 38,
   "id": "95a13770-e1ef-4d96-8d9f-f2555dc03722",
   "metadata": {},
   "outputs": [],
   "source": [
    "soup3=BeautifulSoup(app,'lxml')"
   ]
  },
  {
   "cell_type": "code",
   "execution_count": null,
   "id": "0d1f9461-4367-4275-ae00-856522cfa7ea",
   "metadata": {},
   "outputs": [],
   "source": [
    "soup3.prettify()"
   ]
  },
  {
   "cell_type": "code",
   "execution_count": 306,
   "id": "b4bcbd19-24c3-49ee-bcb0-de97b95cf499",
   "metadata": {},
   "outputs": [],
   "source": [
    "name=[]\n",
    "for i in soup3.find_all('h3'):\n",
    "    strong_tags=i.find_all('strong',class_=None)\n",
    "    for strong in strong_tags:\n",
    "        name.append(strong.text)"
   ]
  },
  {
   "cell_type": "code",
   "execution_count": 90,
   "id": "7ae0c725-fe4f-48df-b0f5-855ea2544804",
   "metadata": {},
   "outputs": [
    {
     "data": {
      "text/plain": [
       "['Amazon',\n",
       " 'Flipkart',\n",
       " 'Myntra',\n",
       " 'Nykaa',\n",
       " 'Ajio',\n",
       " 'Snapdeal',\n",
       " 'Meesho',\n",
       " 'Swiggy',\n",
       " 'Tata Cliq',\n",
       " 'FirstCry',\n",
       " 'Bigbasket',\n",
       " 'ShopClues',\n",
       " 'Limeroad',\n",
       " 'Craftsvilla',\n",
       " 'PepperFry',\n",
       " 'Ferns & Petals',\n",
       " 'Lenskart',\n",
       " 'OLX',\n",
       " 'AliExpress ',\n",
       " 'Zepto',\n",
       " 'Urbanic',\n",
       " 'Blinkit']"
      ]
     },
     "execution_count": 90,
     "metadata": {},
     "output_type": "execute_result"
    }
   ],
   "source": []
  },
  {
   "cell_type": "code",
   "execution_count": 308,
   "id": "0a8ce39b-2ef9-4f87-8b37-26cd9915f617",
   "metadata": {
    "scrolled": true
   },
   "outputs": [
    {
     "name": "stdout",
     "output_type": "stream",
     "text": [
      "<tr><td>App Ratings</td><td>4.5/5</td></tr>\n",
      "<tr><td>App Ratings</td><td>4.4/5</td></tr>\n",
      "<tr><td>App Ratings</td><td>4.4/5</td></tr>\n",
      "<tr><td>App Ratings</td><td>4.5/5</td></tr>\n",
      "<tr><td>App Ratings</td><td>4.4/5</td></tr>\n",
      "<tr><td>App Ratings</td><td>4.4/5</td></tr>\n",
      "<tr><td>App Ratings</td><td><strong> </strong>4.1/5</td></tr>\n",
      "<tr><td>App Ratings</td><td>4.0/5</td></tr>\n",
      "<tr><td>App Ratings</td><td><strong> </strong>4.4/5</td></tr>\n",
      "<tr><td>App Ratings</td><td><strong> </strong>4.6/5</td></tr>\n",
      "<tr><td>App Ratings</td><td><strong> </strong>4.5/5</td></tr>\n",
      "<tr><td>App Ratings</td><td><strong> </strong>3.8/5</td></tr>\n",
      "<tr><td>App Ratings</td><td><strong> </strong>4.0/5</td></tr>\n",
      "<tr><td>App Ratings</td><td><strong> </strong>3.8/5</td></tr>\n",
      "<tr><td>App Ratings</td><td><strong> </strong>3.7/5</td></tr>\n",
      "<tr><td>App Ratings</td><td><strong> </strong>4.7/5</td></tr>\n",
      "<tr><td>App Ratings</td><td><strong> </strong>3.5 /5</td></tr>\n",
      "<tr><td>App Ratings</td><td><strong> </strong>4.3/5</td></tr>\n",
      "<tr><td>App Ratings</td><td><strong> </strong>4.5/5</td></tr>\n",
      "<tr><td>App Ratings</td><td><strong> </strong>4.7/5</td></tr>\n",
      "<tr><td>App Ratings</td><td><strong> </strong>4.3/5</td></tr>\n",
      "<tr><td>App Ratings</td><td><strong> </strong>4.5/5</td></tr>\n"
     ]
    }
   ],
   "source": [
    "for i in soup3.find_all('figure',class_='wp-block-table'):\n",
    "    for j in i.find('table'):\n",
    "        print(j.find_all('tr',class_=None)[0])"
   ]
  },
  {
   "cell_type": "code",
   "execution_count": 300,
   "id": "cb7a9ecd-7f43-407f-a861-cff809c704b2",
   "metadata": {
    "scrolled": true
   },
   "outputs": [
    {
     "name": "stdout",
     "output_type": "stream",
     "text": [
      "<td>Total Installs</td>\n",
      "<td>10Cr+</td>\n",
      "<td>Total Installs</td>\n",
      "<td>500M+</td>\n",
      "<td>Total Installs</td>\n",
      "<td>10Cr+</td>\n",
      "<td>Total Installs</td>\n",
      "<td>1Cr+</td>\n",
      "<td>Total Installs</td>\n",
      "<td>10Cr+</td>\n",
      "<td>Total Installs</td>\n",
      "<td>10Cr+</td>\n",
      "<td>Total Installs</td>\n",
      "<td>100M+</td>\n",
      "<td>Total Installs</td>\n",
      "<td>10Cr+</td>\n",
      "<td>Total Installs</td>\n",
      "<td>50M+</td>\n",
      "<td>Total Installs</td>\n",
      "<td>1Cr+</td>\n",
      "<td>Total Installs</td>\n",
      "<td>10M+</td>\n",
      "<td>Total Installs</td>\n",
      "<td>50M+</td>\n",
      "<td>Total Installs</td>\n",
      "<td>50M+</td>\n",
      "<td>Total Installs</td>\n",
      "<td>1Cr+</td>\n",
      "<td>Total Installs</td>\n",
      "<td>10M+</td>\n",
      "<td>Total Installs</td>\n",
      "<td>10L+</td>\n",
      "<td>Total Installs</td>\n",
      "<td>10L+</td>\n",
      "<td>Total Installs</td>\n",
      "<td>10L+</td>\n",
      "<td>Total Installs</td>\n",
      "<td>500M+</td>\n",
      "<td>Total Installs</td>\n",
      "<td>1Cr+</td>\n",
      "<td>Total Installs</td>\n",
      "<td>10M+</td>\n",
      "<td>Total Installs</td>\n",
      "<td>1Cr+</td>\n"
     ]
    }
   ],
   "source": [
    "for i in soup3.find_all('figure',class_='wp-block-table'):\n",
    "    for j in i.find('table'):\n",
    "        for k in j.find_all('tr')[1]:\n",
    "            print(k)"
   ]
  },
  {
   "cell_type": "code",
   "execution_count": 310,
   "id": "08875509-cc85-437c-9345-fdd040937f90",
   "metadata": {
    "scrolled": true
   },
   "outputs": [
    {
     "name": "stdout",
     "output_type": "stream",
     "text": [
      "<td>Launched  In </td>\n",
      "<td>December 2014</td>\n",
      "<td>Launched  In </td>\n",
      "<td>July 2011</td>\n",
      "<td>Launched  In </td>\n",
      "<td>May 2014</td>\n",
      "<td>Launched  In </td>\n",
      "<td>Jan 2015</td>\n",
      "<td>Launched  In </td>\n",
      "<td>2016</td>\n",
      "<td>Launched  In </td>\n",
      "<td>Apr 2012</td>\n",
      "<td>Launched  In </td>\n",
      "<td>Feb 2017</td>\n",
      "<td>Launched  In </td>\n",
      "<td>Jun-2015</td>\n",
      "<td>Launched  In </td>\n",
      "<td>May 2016</td>\n",
      "<td>Launched  In </td>\n",
      "<td>May 2013</td>\n",
      "<td>Launched  In </td>\n",
      "<td>May 2013</td>\n",
      "<td>Launched  In </td>\n",
      "<td>Dec 2013</td>\n",
      "<td>Launched  In </td>\n",
      "<td>Apr 2014</td>\n",
      "<td>Launched  In </td>\n",
      "<td>Apr 2015</td>\n",
      "<td>Launched  In </td>\n",
      "<td>Oct 2015</td>\n",
      "<td>Launched  In </td>\n",
      "<td>Mar 2014</td>\n",
      "<td>Launched  In </td>\n",
      "<td>Jan 2015</td>\n",
      "<td>Launched  In </td>\n",
      "<td>2006</td>\n",
      "<td>Launched  In </td>\n",
      "<td>Sep 2012</td>\n",
      "<td>Launched  In </td>\n",
      "<td>Aug 2021</td>\n",
      "<td>Launched  In </td>\n",
      "<td>Jul 2020</td>\n",
      "<td>Launched  In </td>\n",
      "<td><strong>Dec 2014</strong></td>\n"
     ]
    }
   ],
   "source": [
    "for i in soup3.find_all('figure',class_='wp-block-table'):\n",
    "    for j in i.find('table'):\n",
    "        for k in j.find_all('tr')[2]:\n",
    "            print(k)"
   ]
  },
  {
   "cell_type": "code",
   "execution_count": 314,
   "id": "d7379b75-19a1-4942-86d0-d4c78790341c",
   "metadata": {
    "scrolled": true
   },
   "outputs": [
    {
     "name": "stdout",
     "output_type": "stream",
     "text": [
      "Founded By\n",
      "Jeff Bezos\n",
      "Founded By\n",
      "Binny Bansal, Sachin Bansal\n",
      "Founded By\n",
      "Mukesh Bansal, Vineet Saxena, Ashutosh Lawania\n",
      "Founded By\n",
      "Falguni Nayar\n",
      "Founded By\n",
      "Mukesh Ambani\n",
      "Founded By\n",
      "Kunal Bahl and Rohit Bansal\n",
      "Founded By\n",
      "Vidit Aatrey, Sanjeev Barnwal\n",
      "Founded By\n",
      "Nandan Reddy\n",
      "Founded By\n",
      "Tata Unistore Limite\n",
      "Founded By\n",
      "Supam Maheshwari, Amitava Saha, Sanket Hattimattur, Prashant Jadhav\n",
      "Founded By\n",
      "V.S. Sudhakar, Hari Menon, V.S. Ramesh, Vipul Parekh, Abhinay Choudhari\n",
      "Founded By\n",
      "Radhika Aggarwal, Sanjay Sethi, Sandeep Aggarwal\n",
      "Founded By\n",
      "Suchi Mukherjee, Ankush Mehra, Prashant Malik\n",
      "Founded By\n",
      "Manoj Gupta, Monica Gupta\n",
      "Founded By\n",
      "Ambareesh Murthy\n",
      "Founded By\n",
      "Meeta Gutgutia, Vikaas Gutgutia\n",
      "Founded By\n",
      "Peyush Bansal\n",
      "Founded By\n",
      "Fabrice Grinda, Alec Oxenford\n",
      "Founded By\n",
      "Jack Ma Yun\n",
      "Founded By\n",
      "Kaivalya Vohra, Aadit Palicha\n",
      "Founded By\n",
      "N/A\n",
      "Founded By\n",
      "Albinder Dhindsa, Saurabh Kumar\n"
     ]
    }
   ],
   "source": [
    "for i in soup3.find_all('figure',class_='wp-block-table'):\n",
    "    for j in i.find('table'):\n",
    "        for k in j.find_all('tr')[3]:\n",
    "            print(k.text)"
   ]
  },
  {
   "cell_type": "code",
   "execution_count": 332,
   "id": "70a389d0-10b3-42c4-afb5-bbad67a79dc5",
   "metadata": {
    "scrolled": true
   },
   "outputs": [
    {
     "ename": "TypeError",
     "evalue": "'int' object is not iterable",
     "output_type": "error",
     "traceback": [
      "\u001b[1;31m---------------------------------------------------------------------------\u001b[0m",
      "\u001b[1;31mTypeError\u001b[0m                                 Traceback (most recent call last)",
      "Cell \u001b[1;32mIn[332], line 4\u001b[0m\n\u001b[0;32m      2\u001b[0m \u001b[38;5;28;01mfor\u001b[39;00m j \u001b[38;5;129;01min\u001b[39;00m i\u001b[38;5;241m.\u001b[39mfind(\u001b[38;5;124m'\u001b[39m\u001b[38;5;124mtable\u001b[39m\u001b[38;5;124m'\u001b[39m):\n\u001b[0;32m      3\u001b[0m     \u001b[38;5;28;01mfor\u001b[39;00m k \u001b[38;5;129;01min\u001b[39;00m j\u001b[38;5;241m.\u001b[39mfind_all(\u001b[38;5;124m'\u001b[39m\u001b[38;5;124mtr\u001b[39m\u001b[38;5;124m'\u001b[39m)[\u001b[38;5;241m4\u001b[39m]:\n\u001b[1;32m----> 4\u001b[0m         \u001b[38;5;28;01mfor\u001b[39;00m l \u001b[38;5;129;01min\u001b[39;00m \u001b[38;5;28mlen\u001b[39m(k):\n\u001b[0;32m      5\u001b[0m             \u001b[38;5;28mprint\u001b[39m(l)\n",
      "\u001b[1;31mTypeError\u001b[0m: 'int' object is not iterable"
     ]
    }
   ],
   "source": [
    "for i in soup3.find_all('figure',class_='wp-block-table'):\n",
    "    for j in i.find('table'):\n",
    "        for k in j.find_all('tr')[4]:"
   ]
  },
  {
   "cell_type": "code",
   "execution_count": null,
   "id": "2ef84cd2-156b-4474-9a8e-47313f3a780d",
   "metadata": {},
   "outputs": [],
   "source": []
  }
 ],
 "metadata": {
  "kernelspec": {
   "display_name": "Python [conda env:base] *",
   "language": "python",
   "name": "conda-base-py"
  },
  "language_info": {
   "codemirror_mode": {
    "name": "ipython",
    "version": 3
   },
   "file_extension": ".py",
   "mimetype": "text/x-python",
   "name": "python",
   "nbconvert_exporter": "python",
   "pygments_lexer": "ipython3",
   "version": "3.12.3"
  }
 },
 "nbformat": 4,
 "nbformat_minor": 5
}
